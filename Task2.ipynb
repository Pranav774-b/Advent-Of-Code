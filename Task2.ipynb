{
 "metadata": {
  "language_info": {
   "codemirror_mode": {
    "name": "ipython",
    "version": 3
   },
   "file_extension": ".py",
   "mimetype": "text/x-python",
   "name": "python",
   "nbconvert_exporter": "python",
   "pygments_lexer": "ipython3",
   "version": "3.9.0-final"
  },
  "orig_nbformat": 2,
  "kernelspec": {
   "name": "python3",
   "display_name": "Python 3.9.0 64-bit",
   "metadata": {
    "interpreter": {
     "hash": "d2396e108b57e4cc1074eff719f967751be7e09d4880535a1907d7bfcdcdac1a"
    }
   }
  }
 },
 "nbformat": 4,
 "nbformat_minor": 2,
 "cells": [
  {
   "cell_type": "code",
   "execution_count": 1,
   "metadata": {},
   "outputs": [],
   "source": [
    "import pandas as pd"
   ]
  },
  {
   "cell_type": "code",
   "execution_count": 2,
   "metadata": {},
   "outputs": [],
   "source": [
    "df=pd.read_excel(r'C:\\Users\\PranavM\\OneDrive\\AOC2.xlsx')"
   ]
  },
  {
   "cell_type": "code",
   "execution_count": 3,
   "metadata": {},
   "outputs": [
    {
     "output_type": "execute_result",
     "data": {
      "text/plain": [
       "4"
      ]
     },
     "metadata": {},
     "execution_count": 3
    }
   ],
   "source": [
    "df.iloc[0]['Min']"
   ]
  },
  {
   "cell_type": "code",
   "execution_count": 26,
   "metadata": {},
   "outputs": [
    {
     "output_type": "stream",
     "name": "stdout",
     "text": [
      "562\n"
     ]
    }
   ],
   "source": [
    "i=0\n",
    "y=0\n",
    "while i<1000:\n",
    "    min1=df.iloc[i]['Min']\n",
    "    max1=df.iloc[i]['Max']\n",
    "    alph=df.iloc[i]['alp']\n",
    "    seq=df.iloc[i]['seq']\n",
    "    def split(word): \n",
    "        return [char for char in word] \n",
    "    sp=split(seq)\n",
    "    if sp[min1-1] == alph:\n",
    "        if sp[max1-1] == alph:\n",
    "            pass\n",
    "        else:\n",
    "            y=y+1\n",
    "    else:\n",
    "        if sp[max1-1] == alph:\n",
    "            y=y+1\n",
    "    i=i+1\n",
    "print(y)\n"
   ]
  },
  {
   "cell_type": "code",
   "execution_count": 12,
   "metadata": {},
   "outputs": [
    {
     "output_type": "execute_result",
     "data": {
      "text/plain": [
       "['r', 'r', 'r', 'j', 'r']"
      ]
     },
     "metadata": {},
     "execution_count": 12
    }
   ],
   "source": [
    "i=0\n",
    "min1=df.iloc[i]['Min']\n",
    "max1=df.iloc[i]['Max']\n",
    "alph=df.iloc[i]['alp']\n",
    "seq=df.iloc[i]['seq']"
   ]
  },
  {
   "cell_type": "code",
   "execution_count": 13,
   "metadata": {},
   "outputs": [],
   "source": []
  },
  {
   "cell_type": "code",
   "execution_count": 14,
   "metadata": {},
   "outputs": [
    {
     "output_type": "stream",
     "name": "stdout",
     "text": [
      "1\n"
     ]
    }
   ],
   "source": [
    "\n"
   ]
  },
  {
   "cell_type": "code",
   "execution_count": null,
   "metadata": {},
   "outputs": [],
   "source": []
  }
 ]
}