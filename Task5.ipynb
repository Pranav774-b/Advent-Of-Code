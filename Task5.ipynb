{
 "metadata": {
  "language_info": {
   "codemirror_mode": {
    "name": "ipython",
    "version": 3
   },
   "file_extension": ".py",
   "mimetype": "text/x-python",
   "name": "python",
   "nbconvert_exporter": "python",
   "pygments_lexer": "ipython3",
   "version": "3.9.0-final"
  },
  "orig_nbformat": 2,
  "kernelspec": {
   "name": "python3",
   "display_name": "Python 3.9.0 64-bit",
   "metadata": {
    "interpreter": {
     "hash": "d2396e108b57e4cc1074eff719f967751be7e09d4880535a1907d7bfcdcdac1a"
    }
   }
  }
 },
 "nbformat": 4,
 "nbformat_minor": 2,
 "cells": [
  {
   "cell_type": "code",
   "execution_count": 1,
   "metadata": {},
   "outputs": [
    {
     "output_type": "execute_result",
     "data": {
      "text/plain": [
       "           Pass\n",
       "0    BBFBBBFLRR\n",
       "1    BBFBFBFLLL\n",
       "2    FFBBBFBLLL\n",
       "3    BFBFBFBRLR\n",
       "4    BFFFFFFLRR\n",
       "..          ...\n",
       "870  FFBBFBFLLL\n",
       "871  BFFFFBBRRR\n",
       "872  FBBBBFFRLR\n",
       "873  FBBFFFFRLL\n",
       "874  BFBBFBFLRR\n",
       "\n",
       "[875 rows x 1 columns]"
      ],
      "text/html": "<div>\n<style scoped>\n    .dataframe tbody tr th:only-of-type {\n        vertical-align: middle;\n    }\n\n    .dataframe tbody tr th {\n        vertical-align: top;\n    }\n\n    .dataframe thead th {\n        text-align: right;\n    }\n</style>\n<table border=\"1\" class=\"dataframe\">\n  <thead>\n    <tr style=\"text-align: right;\">\n      <th></th>\n      <th>Pass</th>\n    </tr>\n  </thead>\n  <tbody>\n    <tr>\n      <th>0</th>\n      <td>BBFBBBFLRR</td>\n    </tr>\n    <tr>\n      <th>1</th>\n      <td>BBFBFBFLLL</td>\n    </tr>\n    <tr>\n      <th>2</th>\n      <td>FFBBBFBLLL</td>\n    </tr>\n    <tr>\n      <th>3</th>\n      <td>BFBFBFBRLR</td>\n    </tr>\n    <tr>\n      <th>4</th>\n      <td>BFFFFFFLRR</td>\n    </tr>\n    <tr>\n      <th>...</th>\n      <td>...</td>\n    </tr>\n    <tr>\n      <th>870</th>\n      <td>FFBBFBFLLL</td>\n    </tr>\n    <tr>\n      <th>871</th>\n      <td>BFFFFBBRRR</td>\n    </tr>\n    <tr>\n      <th>872</th>\n      <td>FBBBBFFRLR</td>\n    </tr>\n    <tr>\n      <th>873</th>\n      <td>FBBFFFFRLL</td>\n    </tr>\n    <tr>\n      <th>874</th>\n      <td>BFBBFBFLRR</td>\n    </tr>\n  </tbody>\n</table>\n<p>875 rows × 1 columns</p>\n</div>"
     },
     "metadata": {},
     "execution_count": 1
    }
   ],
   "source": [
    "import pandas as pd\n",
    "import re\n",
    "df=pd.read_excel(r'C:\\Users\\PranavM\\OneDrive\\AOC5.xlsx',na_filter=False)\n",
    "df"
   ]
  },
  {
   "cell_type": "code",
   "execution_count": 2,
   "metadata": {},
   "outputs": [],
   "source": [
    "list1=df['Pass'].tolist()\n"
   ]
  },
  {
   "cell_type": "code",
   "execution_count": 3,
   "metadata": {},
   "outputs": [],
   "source": [
    "\n",
    "def con_bin(str1,ones,zeroes):\n",
    "    new_str=str1.replace(ones,'1')\n",
    "    new_str=new_str.replace(zeroes,'0')\n",
    "    new_str=int(new_str)\n",
    "    return (new_str)\n"
   ]
  },
  {
   "cell_type": "code",
   "execution_count": 4,
   "metadata": {},
   "outputs": [
    {
     "output_type": "execute_result",
     "data": {
      "text/plain": [
       "7"
      ]
     },
     "metadata": {},
     "execution_count": 4
    }
   ],
   "source": [
    "def binaryToDecimal(binary): \n",
    "      \n",
    "    binary1 = binary \n",
    "    decimal, i, n = 0, 0, 0\n",
    "    while(binary != 0): \n",
    "        dec = binary % 10\n",
    "        decimal = decimal + dec * pow(2, i) \n",
    "        binary = binary//10\n",
    "        i += 1\n",
    "    return (decimal)\n",
    "binaryToDecimal(111)"
   ]
  },
  {
   "cell_type": "code",
   "execution_count": 5,
   "metadata": {},
   "outputs": [
    {
     "output_type": "execute_result",
     "data": {
      "text/plain": [
       "357"
      ]
     },
     "metadata": {},
     "execution_count": 5
    }
   ],
   "source": [
    "def seatid(row1,colum):\n",
    "    val=row1*8 + colum\n",
    "    return(val)\n",
    "\n",
    "seatid(44,5)"
   ]
  },
  {
   "source": [
    "THIS IS THE SOLUTION TO PART 1"
   ],
   "cell_type": "markdown",
   "metadata": {}
  },
  {
   "cell_type": "code",
   "execution_count": 6,
   "metadata": {},
   "outputs": [
    {
     "output_type": "stream",
     "name": "stdout",
     "text": [
      "974\n"
     ]
    }
   ],
   "source": [
    "list2=[]\n",
    "for entry in list1:\n",
    "    rows=entry[:7]\n",
    "    rows=con_bin(rows,'B','F')\n",
    "    rows=binaryToDecimal(rows)\n",
    "    cols=entry[-3:]\n",
    "    cols=con_bin(cols,'R','L')\n",
    "    cols=binaryToDecimal(cols)\n",
    "    id1=seatid(rows,cols)\n",
    "    list2.append(id1)\n",
    "    \n",
    "print(max(list2))\n"
   ]
  },
  {
   "source": [
    "THIS IS SOLUTION TO PART 2 "
   ],
   "cell_type": "markdown",
   "metadata": {}
  },
  {
   "cell_type": "code",
   "execution_count": 8,
   "metadata": {},
   "outputs": [
    {
     "output_type": "stream",
     "name": "stdout",
     "text": [
      "[646]\n"
     ]
    }
   ],
   "source": [
    "list2.sort()\n",
    "def find_missing(lst): \n",
    "    return [x for x in range(lst[0], lst[-1]+1)  \n",
    "                               if x not in lst]\n",
    "print(find_missing(list2)) "
   ]
  },
  {
   "cell_type": "code",
   "execution_count": null,
   "metadata": {},
   "outputs": [],
   "source": []
  }
 ]
}