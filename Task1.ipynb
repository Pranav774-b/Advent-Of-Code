{
 "metadata": {
  "language_info": {
   "codemirror_mode": {
    "name": "ipython",
    "version": 3
   },
   "file_extension": ".py",
   "mimetype": "text/x-python",
   "name": "python",
   "nbconvert_exporter": "python",
   "pygments_lexer": "ipython3",
   "version": "3.9.0-final"
  },
  "orig_nbformat": 2,
  "kernelspec": {
   "name": "python3",
   "display_name": "Python 3.9.0 64-bit",
   "metadata": {
    "interpreter": {
     "hash": "d2396e108b57e4cc1074eff719f967751be7e09d4880535a1907d7bfcdcdac1a"
    }
   }
  }
 },
 "nbformat": 4,
 "nbformat_minor": 2,
 "cells": [
  {
   "cell_type": "code",
   "execution_count": 13,
   "metadata": {},
   "outputs": [],
   "source": [
    "import pandas as pd\n",
    "from bs4 import BeautifulSoup\n",
    "import urllib.request\n",
    "import re\n",
    "import requests"
   ]
  },
  {
   "cell_type": "code",
   "execution_count": 51,
   "metadata": {},
   "outputs": [
    {
     "output_type": "execute_result",
     "data": {
      "text/plain": [
       "      num\n",
       "0    1028\n",
       "1    1987\n",
       "2    1938\n",
       "3    1136\n",
       "4    1503\n",
       "..    ...\n",
       "195  1967\n",
       "196  1098\n",
       "197  1287\n",
       "198  1392\n",
       "199  1932\n",
       "\n",
       "[200 rows x 1 columns]"
      ],
      "text/html": "<div>\n<style scoped>\n    .dataframe tbody tr th:only-of-type {\n        vertical-align: middle;\n    }\n\n    .dataframe tbody tr th {\n        vertical-align: top;\n    }\n\n    .dataframe thead th {\n        text-align: right;\n    }\n</style>\n<table border=\"1\" class=\"dataframe\">\n  <thead>\n    <tr style=\"text-align: right;\">\n      <th></th>\n      <th>num</th>\n    </tr>\n  </thead>\n  <tbody>\n    <tr>\n      <th>0</th>\n      <td>1028</td>\n    </tr>\n    <tr>\n      <th>1</th>\n      <td>1987</td>\n    </tr>\n    <tr>\n      <th>2</th>\n      <td>1938</td>\n    </tr>\n    <tr>\n      <th>3</th>\n      <td>1136</td>\n    </tr>\n    <tr>\n      <th>4</th>\n      <td>1503</td>\n    </tr>\n    <tr>\n      <th>...</th>\n      <td>...</td>\n    </tr>\n    <tr>\n      <th>195</th>\n      <td>1967</td>\n    </tr>\n    <tr>\n      <th>196</th>\n      <td>1098</td>\n    </tr>\n    <tr>\n      <th>197</th>\n      <td>1287</td>\n    </tr>\n    <tr>\n      <th>198</th>\n      <td>1392</td>\n    </tr>\n    <tr>\n      <th>199</th>\n      <td>1932</td>\n    </tr>\n  </tbody>\n</table>\n<p>200 rows × 1 columns</p>\n</div>"
     },
     "metadata": {},
     "execution_count": 51
    }
   ],
   "source": [
    "df=pd.read_excel(r'C:\\Users\\PranavM\\OneDrive\\AOC.xlsx')\n",
    "df"
   ]
  },
  {
   "cell_type": "code",
   "execution_count": 62,
   "metadata": {},
   "outputs": [],
   "source": [
    "list1=df['num'].tolist()\n",
    "max(list1)\n",
    "list1.sort()\n"
   ]
  },
  {
   "cell_type": "code",
   "execution_count": 55,
   "metadata": {},
   "outputs": [
    {
     "output_type": "execute_result",
     "data": {
      "text/plain": [
       "[149,\n",
       " 339,\n",
       " 530,\n",
       " 644,\n",
       " 846,\n",
       " 855,\n",
       " 935,\n",
       " 968,\n",
       " 990,\n",
       " 1028,\n",
       " 1052,\n",
       " 1057,\n",
       " 1077,\n",
       " 1087,\n",
       " 1091,\n",
       " 1092,\n",
       " 1098,\n",
       " 1102,\n",
       " 1103,\n",
       " 1107,\n",
       " 1110,\n",
       " 1112,\n",
       " 1116,\n",
       " 1117,\n",
       " 1119,\n",
       " 1123,\n",
       " 1125,\n",
       " 1127,\n",
       " 1131,\n",
       " 1136,\n",
       " 1146,\n",
       " 1169,\n",
       " 1173,\n",
       " 1181,\n",
       " 1184,\n",
       " 1185,\n",
       " 1186,\n",
       " 1190,\n",
       " 1193,\n",
       " 1203,\n",
       " 1207,\n",
       " 1214,\n",
       " 1215,\n",
       " 1222,\n",
       " 1241,\n",
       " 1253,\n",
       " 1262,\n",
       " 1267,\n",
       " 1287,\n",
       " 1290,\n",
       " 1295,\n",
       " 1297,\n",
       " 1300,\n",
       " 1307,\n",
       " 1315,\n",
       " 1321,\n",
       " 1337,\n",
       " 1363,\n",
       " 1367,\n",
       " 1372,\n",
       " 1373,\n",
       " 1375,\n",
       " 1384,\n",
       " 1392,\n",
       " 1393,\n",
       " 1412,\n",
       " 1421,\n",
       " 1439,\n",
       " 1443,\n",
       " 1447,\n",
       " 1451,\n",
       " 1452,\n",
       " 1456,\n",
       " 1460,\n",
       " 1464,\n",
       " 1477,\n",
       " 1481,\n",
       " 1485,\n",
       " 1491,\n",
       " 1493,\n",
       " 1494,\n",
       " 1498,\n",
       " 1499,\n",
       " 1502,\n",
       " 1503,\n",
       " 1506,\n",
       " 1518,\n",
       " 1545,\n",
       " 1579,\n",
       " 1591,\n",
       " 1612,\n",
       " 1654,\n",
       " 1676,\n",
       " 1686,\n",
       " 1693,\n",
       " 1708,\n",
       " 1735,\n",
       " 1767,\n",
       " 1778,\n",
       " 1791,\n",
       " 1810,\n",
       " 1863,\n",
       " 1878,\n",
       " 1890,\n",
       " 1900,\n",
       " 1912,\n",
       " 1922,\n",
       " 1932,\n",
       " 1938,\n",
       " 1946,\n",
       " 1959,\n",
       " 1974,\n",
       " 1986,\n",
       " 1997,\n",
       " 2007]"
      ]
     },
     "metadata": {},
     "execution_count": 55
    }
   ],
   "source": []
  },
  {
   "cell_type": "code",
   "execution_count": 63,
   "metadata": {},
   "outputs": [
    {
     "output_type": "stream",
     "name": "stdout",
     "text": [
      "288756720 530 644 846\n"
     ]
    }
   ],
   "source": [
    "i=0\n",
    "for num in list1:\n",
    "    a=i+1\n",
    "    while a<199:\n",
    "        b=a+1\n",
    "        while b<199:\n",
    "            e=list1[i]+list1[a]+list1[b]\n",
    "            if e==2020:\n",
    "                print(list1[a]*list1[i]*list1[b],list1[i],list1[a],list1[b])\n",
    "            b=b+1\n",
    "        a=a+1\n",
    "    i=i+1"
   ]
  },
  {
   "cell_type": "code",
   "execution_count": 60,
   "metadata": {},
   "outputs": [
    {
     "output_type": "execute_result",
     "data": {
      "text/plain": [
       "115"
      ]
     },
     "metadata": {},
     "execution_count": 60
    }
   ],
   "source": [
    "len(list1)\n"
   ]
  },
  {
   "cell_type": "code",
   "execution_count": null,
   "metadata": {},
   "outputs": [],
   "source": []
  }
 ]
}